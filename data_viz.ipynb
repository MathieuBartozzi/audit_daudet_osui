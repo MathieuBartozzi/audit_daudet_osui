{
 "cells": [
  {
   "cell_type": "code",
   "execution_count": 1,
   "metadata": {},
   "outputs": [],
   "source": [
    "import os\n",
    "import pandas as pd\n",
    "from datetime import time\n",
    "import numpy as np"
   ]
  },
  {
   "cell_type": "code",
   "execution_count": 9,
   "metadata": {},
   "outputs": [],
   "source": [
    "# Charger les fichiers CSV\n",
    "def load_csv_files(csv_folder, sep=';'):\n",
    "    dataframes = {}\n",
    "    files = [f for f in os.listdir(csv_folder) if f.endswith(\".csv\")]\n",
    "    for file in files:\n",
    "        df_name = file.capitalize()\n",
    "        df = pd.read_csv(os.path.join(csv_folder, file), sep=sep)\n",
    "        dataframes[df_name] = df\n",
    "    return dataframes"
   ]
  },
  {
   "cell_type": "code",
   "execution_count": 10,
   "metadata": {},
   "outputs": [],
   "source": [
    "#extraction des données\n",
    "data= load_csv_files('processed_data_for_data_viz')\n",
    "\n",
    "df_absencerepas=data['Absencerepas.csv']\n",
    "df_absenceseleves=data['Absenceseleves.csv']\n",
    "df_appreciationduconseil=data['Appreciationduconseil.csv']\n",
    "df_appreciationprofesseurs=data['Appreciationprofesseurs.csv']\n",
    "df_notes_devoir=data['Df_notes_devoir.csv']\n",
    "df_=data['Passagesinfirmerie.csv']\n",
    "df_punition=data['Punition.csv']\n",
    "df_retards=data['Retards.csv']\n",
    "df_sanction=data['Sanction.csv']"
   ]
  },
  {
   "cell_type": "code",
   "execution_count": 13,
   "metadata": {},
   "outputs": [],
   "source": []
  }
 ],
 "metadata": {
  "kernelspec": {
   "display_name": "projets_osui",
   "language": "python",
   "name": "python3"
  },
  "language_info": {
   "codemirror_mode": {
    "name": "ipython",
    "version": 3
   },
   "file_extension": ".py",
   "mimetype": "text/x-python",
   "name": "python",
   "nbconvert_exporter": "python",
   "pygments_lexer": "ipython3",
   "version": "3.10.6"
  }
 },
 "nbformat": 4,
 "nbformat_minor": 2
}
